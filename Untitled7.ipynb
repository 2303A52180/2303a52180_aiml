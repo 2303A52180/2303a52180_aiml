{
  "nbformat": 4,
  "nbformat_minor": 0,
  "metadata": {
    "colab": {
      "provenance": [],
      "authorship_tag": "ABX9TyPziPsRcR+vGxLZP/i0Xjeu",
      "include_colab_link": true
    },
    "kernelspec": {
      "name": "python3",
      "display_name": "Python 3"
    },
    "language_info": {
      "name": "python"
    }
  },
  "cells": [
    {
      "cell_type": "markdown",
      "metadata": {
        "id": "view-in-github",
        "colab_type": "text"
      },
      "source": [
        "<a href=\"https://colab.research.google.com/github/2303A52180/2303a52180_aiml/blob/main/Untitled7.ipynb\" target=\"_parent\"><img src=\"https://colab.research.google.com/assets/colab-badge.svg\" alt=\"Open In Colab\"/></a>"
      ]
    },
    {
      "source": [
        "import pandas as pd\n",
        "from sklearn.model_selection import train_test_split\n",
        "from sklearn.ensemble import RandomForestClassifier\n",
        "from sklearn.cluster import KMeans\n",
        "\n",
        "df = pd.read_csv(\"/content/absenteeism_dataset.csv\")\n",
        "\n",
        "top_reasons = df['Reason for Absence'].value_counts().head(5)\n",
        "day_most_absenteeism = df['Day of Week'].value_counts().idxmax()\n",
        "max_age = df['Age'].max()\n",
        "min_age = df['Age'].min()\n",
        "\n",
        "def map_season(month):\n",
        "    if month in [12, 1, 2]:\n",
        "        return 'Winter'\n",
        "    elif month in [3, 4, 5]: # Corrected indentation for elif\n",
        "        return 'Spring'\n",
        "    elif month in [6, 7, 8]: # Corrected indentation for elif\n",
        "        return 'Summer'\n",
        "    else:\n",
        "        return 'Autumn'\n",
        "\n",
        "df['Season'] = df['Month'].apply(map_season)\n",
        "absenteeism_by_season = df['Season'].value_counts()\n",
        "highest_qualification = df['Education Level'].mode()[0]\n",
        "\n",
        "X = df[['Age']]\n",
        "y = df['Absent']\n",
        "X_train, X_test, y_train, y_test = train_test_split(X, y, test_size=0.2, random_state=42)\n",
        "model = RandomForestClassifier(random_state=42)\n",
        "model.fit(X_train, y_train)\n",
        "classification_accuracy = model.score(X_test, y_test)\n",
        "\n",
        "X_clustering = df[['Age']]\n",
        "kmeans = KMeans(n_clusters=3, random_state=42)\n",
        "df['Cluster'] = kmeans.fit_predict(X_clustering)\n",
        "\n",
        "results = {\n",
        "    \"Top Reasons for Absenteeism\": top_reasons.to_dict(),\n",
        "    \"Day with Most Absenteeism\": day_most_absenteeism,\n",
        "    \"Max Age\": max_age,\n",
        "    \"Min Age\": min_age,\n",
        "    \"Absenteeism by Season\": absenteeism_by_season.to_dict(),\n",
        "    \"Highest Education Level\": highest_qualification,\n",
        "    \"Classification Model Accuracy\": classification_accuracy,\n",
        "    \"Cluster Counts\": df['Cluster'].value_counts().to_dict(),\n",
        "}\n",
        "\n",
        "print(results)"
      ],
      "cell_type": "code",
      "metadata": {
        "colab": {
          "base_uri": "https://localhost:8080/"
        },
        "id": "BHin-lAhs1MW",
        "outputId": "17157cd3-f2ab-4dcd-9bfb-c18786d5e56e"
      },
      "execution_count": 5,
      "outputs": [
        {
          "output_type": "stream",
          "name": "stdout",
          "text": [
            "{'Top Reasons for Absenteeism': {'Illness': 79, 'Transportation': 40, 'Family Issues': 37, 'Work Stress': 26, 'Personal Reasons': 18}, 'Day with Most Absenteeism': 'Monday', 'Max Age': 59, 'Min Age': 20, 'Absenteeism by Season': {'Spring': 53, 'Summer': 53, 'Autumn': 52, 'Winter': 42}, 'Highest Education Level': 'High School', 'Classification Model Accuracy': 0.575, 'Cluster Counts': {0: 74, 1: 71, 2: 55}}\n"
          ]
        }
      ]
    }
  ]
}